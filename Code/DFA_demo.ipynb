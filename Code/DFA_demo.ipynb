{
 "cells": [
  {
   "cell_type": "markdown",
   "metadata": {},
   "source": [
    "# DFA wrapper Demo\n",
    "Example usage case of dfa_parser is given below"
   ]
  },
  {
   "cell_type": "code",
   "execution_count": 1,
   "metadata": {},
   "outputs": [],
   "source": [
    "from dfa_parser import dfa_from_dict, dfa_to_dict"
   ]
  },
  {
   "cell_type": "code",
   "execution_count": 2,
   "metadata": {},
   "outputs": [],
   "source": [
    "dfa_dict = {'accepts': {1},\n",
    " 'start': 0,\n",
    " 'transitions': {0: {'a': 0, 'b': 1}, 1: {'a': 1, 'b': 2}, 2: {'a': 2, 'b': 0}}}"
   ]
  },
  {
   "cell_type": "code",
   "execution_count": 3,
   "metadata": {},
   "outputs": [],
   "source": [
    "dfa = dfa_from_dict(dfa_dict)"
   ]
  },
  {
   "cell_type": "code",
   "execution_count": 4,
   "metadata": {},
   "outputs": [
    {
     "name": "stdout",
     "output_type": "stream",
     "text": [
      "\n",
      "This DFA has 3 states\n",
      "States: {0, 1, 2}\n",
      "Alphabet: {'a', 'b'}\n",
      "Starting state: 0\n",
      "Accepting states: {1}\n",
      "Transition function:\n",
      "\t 0\t1\t2\n",
      "a \t 0\t1\t2\n",
      "b \t 1\t2\t0\n",
      "Current state: 0\n",
      "Currently accepting: False\n",
      "\n"
     ]
    }
   ],
   "source": [
    "dfa.pretty_print()"
   ]
  },
  {
   "cell_type": "code",
   "execution_count": 5,
   "metadata": {},
   "outputs": [
    {
     "data": {
      "text/plain": [
       "{'accepts': {1},\n",
       " 'start': 0,\n",
       " 'transitions': {0: {'a': 0, 'b': 1},\n",
       "  1: {'a': 1, 'b': 2},\n",
       "  2: {'a': 2, 'b': 0}}}"
      ]
     },
     "execution_count": 5,
     "metadata": {},
     "output_type": "execute_result"
    }
   ],
   "source": [
    "dfa_to_dict(dfa)"
   ]
  },
  {
   "cell_type": "code",
   "execution_count": 6,
   "metadata": {},
   "outputs": [
    {
     "data": {
      "text/plain": [
       "0"
      ]
     },
     "execution_count": 6,
     "metadata": {},
     "output_type": "execute_result"
    }
   ],
   "source": [
    "dfa.current_state"
   ]
  },
  {
   "cell_type": "code",
   "execution_count": 7,
   "metadata": {},
   "outputs": [
    {
     "data": {
      "text/plain": [
       "0"
      ]
     },
     "execution_count": 7,
     "metadata": {},
     "output_type": "execute_result"
    }
   ],
   "source": [
    "dfa.input('a')\n",
    "dfa.current_state"
   ]
  },
  {
   "cell_type": "code",
   "execution_count": 8,
   "metadata": {},
   "outputs": [
    {
     "name": "stdout",
     "output_type": "stream",
     "text": [
      "\n",
      "This DFA has 3 states\n",
      "States: {0, 1, 2}\n",
      "Alphabet: {'a', 'b'}\n",
      "Starting state: 0\n",
      "Accepting states: {1}\n",
      "Transition function:\n",
      "\t 0\t1\t2\n",
      "a \t 0\t1\t2\n",
      "b \t 1\t2\t0\n",
      "Current state: 0\n",
      "Currently accepting: False\n",
      "\n"
     ]
    }
   ],
   "source": [
    "dfa.pretty_print()"
   ]
  },
  {
   "cell_type": "code",
   "execution_count": 9,
   "metadata": {},
   "outputs": [],
   "source": [
    "import dfa_grapher as dfg"
   ]
  },
  {
   "cell_type": "code",
   "execution_count": 14,
   "metadata": {},
   "outputs": [],
   "source": [
    "dfg.draw_dfa(dfa, 'dfa_graph.png')"
   ]
  },
  {
   "cell_type": "markdown",
   "metadata": {},
   "source": [
    "![graph](dfa_graph.png)"
   ]
  },
  {
   "cell_type": "markdown",
   "metadata": {},
   "source": [
    "DFA sampler usage is given below, the class generates random strings until it finds an accepting or rejecting string."
   ]
  },
  {
   "cell_type": "code",
   "execution_count": 11,
   "metadata": {},
   "outputs": [],
   "source": [
    "from dfa_sampler import get_negative_input, get_positive_input"
   ]
  },
  {
   "cell_type": "code",
   "execution_count": 12,
   "metadata": {},
   "outputs": [
    {
     "data": {
      "text/plain": [
       "'aaaab'"
      ]
     },
     "execution_count": 12,
     "metadata": {},
     "output_type": "execute_result"
    }
   ],
   "source": [
    "get_positive_input(dfa, 5)"
   ]
  },
  {
   "cell_type": "code",
   "execution_count": 13,
   "metadata": {},
   "outputs": [
    {
     "data": {
      "text/plain": [
       "'abaab'"
      ]
     },
     "execution_count": 13,
     "metadata": {},
     "output_type": "execute_result"
    }
   ],
   "source": [
    "get_negative_input(dfa,5)"
   ]
  },
  {
   "cell_type": "code",
   "execution_count": null,
   "metadata": {},
   "outputs": [],
   "source": []
  }
 ],
 "metadata": {
  "kernelspec": {
   "display_name": "Python 3",
   "language": "python",
   "name": "python3"
  },
  "language_info": {
   "codemirror_mode": {
    "name": "ipython",
    "version": 3
   },
   "file_extension": ".py",
   "mimetype": "text/x-python",
   "name": "python",
   "nbconvert_exporter": "python",
   "pygments_lexer": "ipython3",
   "version": "3.6.2"
  }
 },
 "nbformat": 4,
 "nbformat_minor": 2
}
